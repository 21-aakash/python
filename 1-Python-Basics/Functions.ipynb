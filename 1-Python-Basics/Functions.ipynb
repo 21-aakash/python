{
 "cells": [
  {
   "cell_type": "markdown",
   "metadata": {},
   "source": [
    "#### Functions"
   ]
  },
  {
   "cell_type": "code",
   "execution_count": 1,
   "metadata": {},
   "outputs": [],
   "source": [
    "def function_name(parameter):\n",
    "    #comments\n",
    "    #<body>\n",
    "    return exp"
   ]
  },
  {
   "cell_type": "code",
   "execution_count": 3,
   "metadata": {},
   "outputs": [
    {
     "name": "stdout",
     "output_type": "stream",
     "text": [
      "1\n",
      "2\n",
      "3\n",
      "5\n",
      "aakash\n"
     ]
    }
   ],
   "source": [
    "def printnum(*args):\n",
    "    for i in args:\n",
    "        print(i)\n",
    "\n",
    "\n",
    "printnum(1,2,3,5,\"aakash\")"
   ]
  },
  {
   "cell_type": "code",
   "execution_count": 7,
   "metadata": {},
   "outputs": [
    {
     "name": "stdout",
     "output_type": "stream",
     "text": [
      "name:aakash\n",
      "age:5\n"
     ]
    }
   ],
   "source": [
    "##keyword warguments\n",
    "\n",
    "def printkv(**kwargs):\n",
    "    for key,value in kwargs.items():\n",
    "        print(f\"{key}:{value}\")\n",
    "    \n",
    "printkv(name=\"aakash\", age=5)"
   ]
  },
  {
   "cell_type": "code",
   "execution_count": 8,
   "metadata": {},
   "outputs": [
    {
     "name": "stdout",
     "output_type": "stream",
     "text": [
      "1\n",
      "2\n",
      "3\n",
      "name:aakash\n",
      "age:5\n"
     ]
    }
   ],
   "source": [
    "#combination\n",
    "\n",
    "def printkv(*args, **kwargs):\n",
    "\n",
    "    for key in args:\n",
    "        print(key)\n",
    "\n",
    "    for key,value in kwargs.items():\n",
    "        print(f\"{key}:{value}\")\n",
    "    \n",
    "printkv(1,2,3,name=\"aakash\", age=5)\n"
   ]
  },
  {
   "cell_type": "code",
   "execution_count": 10,
   "metadata": {},
   "outputs": [
    {
     "name": "stdout",
     "output_type": "stream",
     "text": [
      "(2, 1)\n"
     ]
    }
   ],
   "source": [
    "#return \n",
    "def mul(a, b):\n",
    "    return a*b,a\n",
    "\n",
    "print(mul(1,2))\n",
    "  "
   ]
  },
  {
   "cell_type": "markdown",
   "metadata": {},
   "source": [
    "#### Examples"
   ]
  },
  {
   "cell_type": "code",
   "execution_count": 16,
   "metadata": {},
   "outputs": [
    {
     "name": "stdout",
     "output_type": "stream",
     "text": [
      "in Fahrenheit:98.6\n"
     ]
    }
   ],
   "source": [
    "#Tempearture converter\n",
    "\n",
    "\n",
    "def convert(temp , unit):\n",
    "    if unit== 'C':\n",
    "        newtemp = temp *9/5 +32\n",
    "        print(f\"in Fahrenheit:{newtemp}\")   #C->F\n",
    "\n",
    "    elif unit ==\"F\":\n",
    "        newtemp = (temp-32)*5/9\n",
    "        print(f\"in Celcius:{newtemp}\")\n",
    "        \n",
    "    else:\n",
    "        print(\"error\")\n",
    "\n",
    "convert(37 , \"C\")"
   ]
  },
  {
   "cell_type": "code",
   "execution_count": 17,
   "metadata": {},
   "outputs": [
    {
     "data": {
      "text/plain": [
       "True"
      ]
     },
     "execution_count": 17,
     "metadata": {},
     "output_type": "execute_result"
    }
   ],
   "source": [
    "#Password checker\n",
    "def check(p):\n",
    "    if len(p)<8:\n",
    "        return False\n",
    "    if not any(char.isdigit() for char in p):\n",
    "        return False\n",
    "    if not any(char.islower() for char in p):\n",
    "        return False\n",
    "    if not any(char.isupper() for char in p):\n",
    "        return False\n",
    "    if not any(char in '!@#$%^&*()' for char in p):\n",
    "        return False\n",
    "    return True\n",
    "\n",
    "check(\"Aakash@7852\")\n",
    "    \n",
    "    "
   ]
  },
  {
   "cell_type": "code",
   "execution_count": 20,
   "metadata": {},
   "outputs": [
    {
     "name": "stdout",
     "output_type": "stream",
     "text": [
      "True\n"
     ]
    }
   ],
   "source": [
    "#check palindrom\n",
    "\n",
    "def check_palindrom(s):\n",
    "    s= s.lower().replace(\" \",\"\")\n",
    "    return s[::-1]==s\n",
    "\n",
    "print(check_palindrom(\"aapaa\"))"
   ]
  },
  {
   "cell_type": "code",
   "execution_count": 22,
   "metadata": {},
   "outputs": [
    {
     "data": {
      "text/plain": [
       "120"
      ]
     },
     "execution_count": 22,
     "metadata": {},
     "output_type": "execute_result"
    }
   ],
   "source": [
    "\n",
    "#factorial\n",
    "\n",
    "def fact(n):\n",
    "    if n==0:\n",
    "        return 1\n",
    "    else:\n",
    "        return n*fact(n-1)\n",
    "    \n",
    "fact(5)"
   ]
  },
  {
   "cell_type": "markdown",
   "metadata": {},
   "source": [
    "### Lambda Functions"
   ]
  },
  {
   "cell_type": "code",
   "execution_count": 47,
   "metadata": {},
   "outputs": [
    {
     "name": "stdout",
     "output_type": "stream",
     "text": [
      "6\n"
     ]
    }
   ],
   "source": [
    "add = lambda a,b,c :a+b+c\n",
    "\n",
    "print(add(1,2,3))"
   ]
  },
  {
   "cell_type": "code",
   "execution_count": 51,
   "metadata": {},
   "outputs": [
    {
     "data": {
      "text/plain": [
       "[1, 4, 9, 16, 25, 36, 49, 64, 81, 100]"
      ]
     },
     "execution_count": 51,
     "metadata": {},
     "output_type": "execute_result"
    }
   ],
   "source": [
    "#map - applies given function to all the items i inout list\n",
    "\n",
    "numbers=[1,2,3,4,5,6,7,8,9,10]\n",
    "list(map(lambda x:x**2,numbers))"
   ]
  },
  {
   "cell_type": "code",
   "execution_count": 50,
   "metadata": {},
   "outputs": [
    {
     "name": "stdout",
     "output_type": "stream",
     "text": [
      "[1, 4, 9, 16]\n"
     ]
    }
   ],
   "source": [
    "def square(x):\n",
    "    return x*x\n",
    "\n",
    "numbers= [1,2,3,4]\n",
    "l=list(map(square,numbers))\n",
    "print(l)\n"
   ]
  },
  {
   "cell_type": "code",
   "execution_count": 52,
   "metadata": {},
   "outputs": [
    {
     "name": "stdout",
     "output_type": "stream",
     "text": [
      "[3, 3, 3, 3]\n"
     ]
    }
   ],
   "source": [
    "# multiple iterables\n",
    "\n",
    "a=[2,2,2,2]\n",
    "b=[1,1,1,1]\n",
    "\n",
    "c= list(map(lambda x,y : x+y , a,b))\n",
    "print(c)"
   ]
  },
  {
   "cell_type": "code",
   "execution_count": 55,
   "metadata": {},
   "outputs": [
    {
     "name": "stdout",
     "output_type": "stream",
     "text": [
      "[1, 2, 3, 4, 5, 6, 7, 8, 9]\n"
     ]
    }
   ],
   "source": [
    "#convert all string to int\n",
    "str =['1','2','3','4','5','6','7','8','9']\n",
    "x = list(map(int , str))\n",
    "print(x)"
   ]
  },
  {
   "cell_type": "code",
   "execution_count": 63,
   "metadata": {},
   "outputs": [
    {
     "name": "stdout",
     "output_type": "stream",
     "text": [
      "['AAKASH', 'JAMES']\n"
     ]
    }
   ],
   "source": [
    "#convert to all upper case\n",
    "\n",
    "Listt = ['aakash', 'james']\n",
    "\n",
    "x = list(map(str.upper,Listt))\n",
    "\n",
    "print(x)"
   ]
  },
  {
   "cell_type": "code",
   "execution_count": 67,
   "metadata": {},
   "outputs": [
    {
     "name": "stdout",
     "output_type": "stream",
     "text": [
      "[2, 4, 6, 8]\n"
     ]
    }
   ],
   "source": [
    "# filter\n",
    "\n",
    "def even(n):\n",
    "    if n%2 == 0:\n",
    "        return True\n",
    "\n",
    "\n",
    "let = [1,2,3,4,5,6,7,8,9]\n",
    "\n",
    "x=list(filter(even , let))\n",
    "print(x)\n"
   ]
  },
  {
   "cell_type": "code",
   "execution_count": 70,
   "metadata": {},
   "outputs": [
    {
     "name": "stdout",
     "output_type": "stream",
     "text": [
      "[6, 7]\n"
     ]
    }
   ],
   "source": [
    "x =list(filter(lambda x:x>5 and x<8 , let))\n",
    "print(x)"
   ]
  },
  {
   "cell_type": "code",
   "execution_count": 72,
   "metadata": {},
   "outputs": [
    {
     "data": {
      "text/plain": [
       "[{'name': 'james', 'age': 75}]"
      ]
     },
     "execution_count": 72,
     "metadata": {},
     "output_type": "execute_result"
    }
   ],
   "source": [
    "person=[\n",
    "\n",
    "    {'name': \"aakash\", 'age':65},\n",
    "    {'name': 'james' , 'age':75}\n",
    "]\n",
    "\n",
    "def age_greater(person):\n",
    "    return person['age']>66\n",
    "\n",
    "list(filter(age_greater, person))"
   ]
  },
  {
   "cell_type": "code",
   "execution_count": null,
   "metadata": {},
   "outputs": [],
   "source": []
  }
 ],
 "metadata": {
  "kernelspec": {
   "display_name": "Python 3",
   "language": "python",
   "name": "python3"
  },
  "language_info": {
   "codemirror_mode": {
    "name": "ipython",
    "version": 3
   },
   "file_extension": ".py",
   "mimetype": "text/x-python",
   "name": "python",
   "nbconvert_exporter": "python",
   "pygments_lexer": "ipython3",
   "version": "3.12.0"
  }
 },
 "nbformat": 4,
 "nbformat_minor": 2
}
