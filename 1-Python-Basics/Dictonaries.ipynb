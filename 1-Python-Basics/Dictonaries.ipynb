{
 "cells": [
  {
   "cell_type": "markdown",
   "metadata": {},
   "source": [
    "#### Dictionaries"
   ]
  },
  {
   "cell_type": "markdown",
   "metadata": {
    "vscode": {
     "languageId": "plaintext"
    }
   },
   "source": [
    " ###### unordered, key-value , key must be unique so no duplicates , mutable"
   ]
  },
  {
   "cell_type": "markdown",
   "metadata": {},
   "source": []
  },
  {
   "cell_type": "code",
   "execution_count": 1,
   "metadata": {},
   "outputs": [
    {
     "name": "stdout",
     "output_type": "stream",
     "text": [
      "<class 'dict'>\n"
     ]
    }
   ],
   "source": [
    "temp ={}\n",
    "print(type(temp))\n"
   ]
  },
  {
   "cell_type": "code",
   "execution_count": 3,
   "metadata": {},
   "outputs": [
    {
     "data": {
      "text/plain": [
       "{'name': 'sid', 'score': 25}"
      ]
     },
     "execution_count": 3,
     "metadata": {},
     "output_type": "execute_result"
    }
   ],
   "source": [
    "temp={\n",
    "    'name':'aakash',\n",
    "    'score':25,\n",
    "    'name':'sid'\n",
    "}\n",
    "temp\n"
   ]
  },
  {
   "cell_type": "code",
   "execution_count": 7,
   "metadata": {},
   "outputs": [
    {
     "name": "stdout",
     "output_type": "stream",
     "text": [
      "dict_values(['sid', 25])\n",
      "dict_keys(['name', 'score'])\n",
      "dict_items([('name', 'sid'), ('score', 25)])\n"
     ]
    }
   ],
   "source": [
    "#methods \n",
    "\n",
    "print(temp.values())\n",
    "print(temp.keys())\n",
    "print(temp.items())\n"
   ]
  },
  {
   "cell_type": "code",
   "execution_count": 19,
   "metadata": {},
   "outputs": [
    {
     "name": "stdout",
     "output_type": "stream",
     "text": [
      "{'name': 'sid', 'score': 25, 0: 'aakash', 'namw': 'aakash'}\n",
      "{'name': 'aakash', 'score': 25, 0: 'aakash', 'namw': 'aakash'}\n",
      "{'name': 'aakash', 'score': 25, 0: 'aakash', 'namw': 'aakash'}\n"
     ]
    }
   ],
   "source": [
    "##deep copy \n",
    "\n",
    "print(temp)\n",
    "dict2 = temp    ## it is just creating a reference to temp, memorty is same\n",
    "temp['name'] =\"aakash\"\n",
    "\n",
    "print(dict2)\n",
    "print(temp)\n",
    "\n",
    "## value is changed in both dict\n"
   ]
  },
  {
   "cell_type": "code",
   "execution_count": 22,
   "metadata": {},
   "outputs": [
    {
     "name": "stdout",
     "output_type": "stream",
     "text": [
      "{'name': 'aakash', 'score': 25, 0: 'aakash', 'namw': 'aakash'}\n",
      "{'name': 'aakash', 'score': 25, 0: 'aakash', 'namw': 'aakash'}\n",
      "{'name': 'aakash', 'score': 25, 0: 'aakash', 'namw': 'aakash'}\n"
     ]
    }
   ],
   "source": [
    "#shallow copy - copy values with diff memory address\n",
    "\n",
    "print(temp)\n",
    "dict2 = temp.copy()    \n",
    "temp['name'] =\"aakash\"\n",
    "\n",
    "print(dict2)\n",
    "print(temp)\n"
   ]
  },
  {
   "cell_type": "code",
   "execution_count": 30,
   "metadata": {},
   "outputs": [
    {
     "name": "stdout",
     "output_type": "stream",
     "text": [
      "aakash\n",
      "25\n",
      "aakash\n",
      "aakash\n",
      "name\n",
      "score\n",
      "0\n",
      "namw\n",
      "('name', 'aakash')\n",
      "('score', 25)\n",
      "(0, 'aakash')\n",
      "('namw', 'aakash')\n",
      "name: aakash\n",
      "score: 25\n",
      "0: aakash\n",
      "namw: aakash\n"
     ]
    }
   ],
   "source": [
    " ##iteration\n",
    "\n",
    "for i in temp.values():\n",
    "\n",
    "    print(i)\n",
    "\n",
    "for i in temp.keys():\n",
    "    print(i)\n",
    "\n",
    "for i in temp.items():\n",
    "    print(i)   \n",
    "\n",
    "for i, j in temp.items():\n",
    "    print(f\"{i}: {j}\")   "
   ]
  },
  {
   "cell_type": "code",
   "execution_count": 31,
   "metadata": {},
   "outputs": [
    {
     "data": {
      "text/plain": [
       "{'stu': {'name': 'aakash', 'score': 59},\n",
       " 'teach': {'name': 'james', 'score': 79}}"
      ]
     },
     "execution_count": 31,
     "metadata": {},
     "output_type": "execute_result"
    }
   ],
   "source": [
    "#nested dictionaries \\\n",
    "\n",
    "school={\n",
    "\n",
    "    'stu':\n",
    "    {\"name\":'aakash', 'score': 59},\n",
    "   \n",
    "    'teach' :\n",
    "    \n",
    "    {\"name\":'james', 'score': 79}\n",
    "}\n",
    "\n",
    "school"
   ]
  },
  {
   "cell_type": "code",
   "execution_count": 34,
   "metadata": {},
   "outputs": [
    {
     "data": {
      "text/plain": [
       "'aakash'"
      ]
     },
     "execution_count": 34,
     "metadata": {},
     "output_type": "execute_result"
    }
   ],
   "source": [
    "## accessing \n",
    "\n",
    "school['stu']['name']\n"
   ]
  },
  {
   "cell_type": "code",
   "execution_count": 35,
   "metadata": {},
   "outputs": [
    {
     "name": "stdout",
     "output_type": "stream",
     "text": [
      "stu: aakash\n",
      "stu: 59\n",
      "teach: james\n",
      "teach: 79\n"
     ]
    }
   ],
   "source": [
    "##iterating in ND\n",
    "\n",
    "for id,obj in school.items():\n",
    "    for key , value in obj.items():\n",
    "        print(f\"{id}: {value}\")\n",
    "\n"
   ]
  },
  {
   "cell_type": "code",
   "execution_count": 37,
   "metadata": {},
   "outputs": [
    {
     "name": "stdout",
     "output_type": "stream",
     "text": [
      "{0: 0, 1: 1, 2: 4, 3: 9, 4: 16}\n"
     ]
    }
   ],
   "source": [
    "##comprehensions\n",
    "\n",
    "sq = { x:x**2 for x in range(5)}\n",
    "print(sq)\n",
    "\n",
    "\n"
   ]
  },
  {
   "cell_type": "code",
   "execution_count": 41,
   "metadata": {},
   "outputs": [
    {
     "name": "stdout",
     "output_type": "stream",
     "text": [
      "{1: 4, 2: 4, 3: 2, 5: 2, 4: 1, 6: 1, 7: 4}\n",
      "{1: 4, 2: 4, 3: 2, 5: 2, 4: 1, 6: 1, 7: 4}\n"
     ]
    }
   ],
   "source": [
    "#eaxmples : use a dictionary to count frequency of a ele in list \n",
    "\n",
    "#m1\n",
    "\n",
    "list = [1,2,3,1,2,3,1,2,5,4,1,2,5,6,7,7,7,7,]\n",
    "\n",
    "count = {x:list.count(x) for x in list }\n",
    "print(count)\n",
    "\n",
    "#m2\n",
    "\n",
    "d={}\n",
    "\n",
    "for i in list:\n",
    "    if i in d:\n",
    "        d[i]+=1\n",
    "    else:\n",
    "        d[i]=1\n",
    "\n",
    "print(d)\n",
    "\n",
    "\n",
    "\n",
    "\n"
   ]
  },
  {
   "cell_type": "code",
   "execution_count": 43,
   "metadata": {},
   "outputs": [
    {
     "data": {
      "text/plain": [
       "{'x': 1, 'y': 2, 'k': 59, 'j': 78}"
      ]
     },
     "execution_count": 43,
     "metadata": {},
     "output_type": "execute_result"
    }
   ],
   "source": [
    "#merge dictionaries\n",
    "a= {'x':1, 'y':2}\n",
    "b= {\"k\":59, 'j':78}\n",
    "\n",
    "c= {**a, **b}\n",
    "c"
   ]
  },
  {
   "cell_type": "code",
   "execution_count": null,
   "metadata": {},
   "outputs": [],
   "source": []
  }
 ],
 "metadata": {
  "kernelspec": {
   "display_name": "Python 3",
   "language": "python",
   "name": "python3"
  },
  "language_info": {
   "codemirror_mode": {
    "name": "ipython",
    "version": 3
   },
   "file_extension": ".py",
   "mimetype": "text/x-python",
   "name": "python",
   "nbconvert_exporter": "python",
   "pygments_lexer": "ipython3",
   "version": "3.12.0"
  }
 },
 "nbformat": 4,
 "nbformat_minor": 2
}
