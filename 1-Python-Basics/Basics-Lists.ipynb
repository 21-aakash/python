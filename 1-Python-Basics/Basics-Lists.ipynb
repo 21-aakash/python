{
 "cells": [
  {
   "cell_type": "code",
   "execution_count": 1,
   "metadata": {},
   "outputs": [
    {
     "name": "stdout",
     "output_type": "stream",
     "text": [
      "hi\n"
     ]
    }
   ],
   "source": [
    "print('hi')"
   ]
  },
  {
   "cell_type": "markdown",
   "metadata": {},
   "source": [
    "### Python Basics"
   ]
  },
  {
   "cell_type": "code",
   "execution_count": 1,
   "metadata": {},
   "outputs": [
    {
     "data": {
      "text/plain": [
       "2"
      ]
     },
     "execution_count": 1,
     "metadata": {},
     "output_type": "execute_result"
    }
   ],
   "source": [
    "1+1"
   ]
  },
  {
   "cell_type": "code",
   "execution_count": 3,
   "metadata": {},
   "outputs": [
    {
     "name": "stdout",
     "output_type": "stream",
     "text": [
      "20\n"
     ]
    }
   ],
   "source": [
    "total = 1+2+\\\n",
    "3+5+9\n",
    "print(total)"
   ]
  },
  {
   "cell_type": "markdown",
   "metadata": {},
   "source": []
  },
  {
   "cell_type": "code",
   "execution_count": 4,
   "metadata": {},
   "outputs": [
    {
     "name": "stdout",
     "output_type": "stream",
     "text": [
      "6\n"
     ]
    }
   ],
   "source": [
    "x=1; y=5; print(x+y)"
   ]
  },
  {
   "cell_type": "code",
   "execution_count": 8,
   "metadata": {},
   "outputs": [
    {
     "name": "stdout",
     "output_type": "stream",
     "text": [
      "78\n"
     ]
    }
   ],
   "source": [
    "age = input(\"hey\")\n",
    "print(age)"
   ]
  },
  {
   "cell_type": "code",
   "execution_count": 11,
   "metadata": {},
   "outputs": [
    {
     "name": "stdout",
     "output_type": "stream",
     "text": [
      "2021 is not a leap year\n"
     ]
    }
   ],
   "source": [
    "## check leap year\n",
    "\n",
    "y = int(input(\"enter a year \"))\n",
    "\n",
    "if y%400==0 or y%4==0 and y%100!=0:\n",
    "    print(y, \"is leap year\")\n",
    "else:\n",
    "    print(y, \"is not a leap year\")"
   ]
  },
  {
   "cell_type": "code",
   "execution_count": 12,
   "metadata": {},
   "outputs": [
    {
     "name": "stdout",
     "output_type": "stream",
     "text": [
      "25.0 / 5.0 = 5.0\n"
     ]
    }
   ],
   "source": [
    "##calculator app\n",
    "\n",
    "num1 = float(input(\"enter 1st number: \"))\n",
    "num2 = float(input(\"enter 2nd number: \"))\n",
    "\n",
    "operator = str(input(\"choose operation: + - * / \"))\n",
    "\n",
    "if operator == '+':\n",
    "    print(num1 , \"+\" ,num2 ,'=', num1+num2)\n",
    "elif operator == '-':\n",
    "    print(num1 , \"-\" ,num2 ,'=', num1-num2)\n",
    "elif operator == '*':\n",
    "    print(num1 , \"*\" ,num2 ,'=', num1*num2)\n",
    "elif operator == '/':\n",
    "    print(num1 , \"/\" ,num2 ,'=', num1/num2)\n",
    "else:\n",
    "    print('invalid input !!')"
   ]
  },
  {
   "cell_type": "code",
   "execution_count": 13,
   "metadata": {},
   "outputs": [
    {
     "data": {
      "text/plain": [
       "range(0, 5)"
      ]
     },
     "execution_count": 13,
     "metadata": {},
     "output_type": "execute_result"
    }
   ],
   "source": [
    "\n",
    "##Loops \n",
    "\n",
    "x= range(5)\n",
    "x"
   ]
  },
  {
   "cell_type": "code",
   "execution_count": 14,
   "metadata": {},
   "outputs": [
    {
     "name": "stdout",
     "output_type": "stream",
     "text": [
      "0\n",
      "1\n",
      "2\n",
      "3\n",
      "4\n"
     ]
    }
   ],
   "source": [
    "for i in range(5):\n",
    "    print(i)"
   ]
  },
  {
   "cell_type": "code",
   "execution_count": 15,
   "metadata": {},
   "outputs": [
    {
     "name": "stdout",
     "output_type": "stream",
     "text": [
      "1\n",
      "2\n",
      "3\n",
      "4\n"
     ]
    }
   ],
   "source": [
    "for i in range(1,5):\n",
    "    print(i)"
   ]
  },
  {
   "cell_type": "code",
   "execution_count": 16,
   "metadata": {},
   "outputs": [
    {
     "name": "stdout",
     "output_type": "stream",
     "text": [
      "1\n",
      "3\n",
      "5\n",
      "7\n",
      "9\n"
     ]
    }
   ],
   "source": [
    "for i in range(1,10,2):\n",
    "    print(i) "
   ]
  },
  {
   "cell_type": "code",
   "execution_count": 17,
   "metadata": {},
   "outputs": [
    {
     "name": "stdout",
     "output_type": "stream",
     "text": [
      "10\n",
      "9\n",
      "8\n",
      "7\n",
      "6\n",
      "5\n",
      "4\n",
      "3\n",
      "2\n"
     ]
    }
   ],
   "source": [
    "for i in range(10, 1 , -1):\n",
    "    print(i)"
   ]
  },
  {
   "cell_type": "code",
   "execution_count": 18,
   "metadata": {},
   "outputs": [
    {
     "name": "stdout",
     "output_type": "stream",
     "text": [
      "a\n",
      "a\n",
      "k\n",
      "a\n",
      "s\n",
      "h\n",
      " \n",
      "t\n"
     ]
    }
   ],
   "source": [
    "str=\"aakash t\"\n",
    "for i in str:\n",
    "    print(i)\n",
    "  \n",
    "  "
   ]
  },
  {
   "cell_type": "code",
   "execution_count": 2,
   "metadata": {},
   "outputs": [
    {
     "name": "stdout",
     "output_type": "stream",
     "text": [
      "0\n",
      "1\n",
      "2\n",
      "number is 3\n",
      "3\n",
      "4\n"
     ]
    }
   ],
   "source": [
    "for i in range(5):\n",
    "    if i==3:\n",
    "        print(\"number is\",i)\n",
    "        pass\n",
    "    print(i)\n",
    " "
   ]
  },
  {
   "cell_type": "code",
   "execution_count": 10,
   "metadata": {},
   "outputs": [
    {
     "name": "stdout",
     "output_type": "stream",
     "text": [
      "5050\n",
      "5050\n"
     ]
    }
   ],
   "source": [
    " ## sum of first n natural no by for and while \n",
    "##prime no between 1 and 100\n",
    "\n",
    "n=100\n",
    "i=0\n",
    "sum=0\n",
    "\n",
    "while i<=n:\n",
    "    sum+=i\n",
    "    i+=1\n",
    "\n",
    "print(sum)    \n",
    "\n",
    "sum2=0\n",
    "\n",
    "for i in range(n+1):\n",
    "    sum2+=i\n",
    "\n",
    "print(sum2)\n"
   ]
  },
  {
   "cell_type": "code",
   "execution_count": null,
   "metadata": {},
   "outputs": [
    {
     "name": "stdout",
     "output_type": "stream",
     "text": [
      "1\n",
      "11\n",
      "13\n",
      "17\n",
      "19\n",
      "23\n",
      "29\n",
      "31\n",
      "37\n",
      "41\n",
      "43\n",
      "47\n",
      "53\n",
      "59\n",
      "61\n",
      "67\n",
      "71\n",
      "73\n",
      "79\n",
      "83\n",
      "89\n",
      "97\n"
     ]
    }
   ],
   "source": [
    "##prime no between 1 and 100\n",
    "\n",
    "def isprime(num):\n",
    "    for i in range(2, int(n**0.5)+1):\n",
    "        if num%i==0:\n",
    "            return False\n",
    "\n",
    "    return True \n",
    "\n",
    "n=101\n",
    "\n",
    "for i in range(1,n):\n",
    "    if isprime(i):\n",
    "        print(i)\n",
    "            \n",
    "            "
   ]
  },
  {
   "cell_type": "markdown",
   "metadata": {},
   "source": [
    "### Lists"
   ]
  },
  {
   "cell_type": "code",
   "execution_count": 29,
   "metadata": {},
   "outputs": [
    {
     "name": "stdout",
     "output_type": "stream",
     "text": [
      "<class 'list'>\n"
     ]
    }
   ],
   "source": [
    "#Lists\n",
    "\n",
    "list =[]\n",
    "print(type(list))"
   ]
  },
  {
   "cell_type": "code",
   "execution_count": 44,
   "metadata": {},
   "outputs": [
    {
     "name": "stdout",
     "output_type": "stream",
     "text": [
      "['aakash', '', True, 3.15]\n"
     ]
    }
   ],
   "source": [
    "name = ['aakash', '', True , 3.15]\n",
    "print(name)"
   ]
  },
  {
   "cell_type": "code",
   "execution_count": 45,
   "metadata": {},
   "outputs": [
    {
     "name": "stdout",
     "output_type": "stream",
     "text": [
      "['', True]\n"
     ]
    }
   ],
   "source": [
    "print(name[1:3])"
   ]
  },
  {
   "cell_type": "code",
   "execution_count": 46,
   "metadata": {},
   "outputs": [
    {
     "name": "stdout",
     "output_type": "stream",
     "text": [
      "['', True]\n"
     ]
    }
   ],
   "source": [
    "print(name[-3:-1])"
   ]
  },
  {
   "cell_type": "code",
   "execution_count": 49,
   "metadata": {},
   "outputs": [
    {
     "name": "stdout",
     "output_type": "stream",
     "text": [
      "['aakash', '', 'a', 'k', 'e', 3.15]\n"
     ]
    }
   ],
   "source": [
    "name[2] ='jake'\n",
    "del name[2]\n",
    "\n",
    "print(name)\n",
    "\n",
    " "
   ]
  },
  {
   "cell_type": "code",
   "execution_count": 50,
   "metadata": {},
   "outputs": [
    {
     "name": "stdout",
     "output_type": "stream",
     "text": [
      "['aakash', '', 'a', 'k', 'e', 3.15, 'james']\n"
     ]
    }
   ],
   "source": [
    "#List methods \n",
    "\n",
    "\n",
    "name.append(\"james\")\n",
    "print(name)"
   ]
  },
  {
   "cell_type": "code",
   "execution_count": 51,
   "metadata": {},
   "outputs": [
    {
     "name": "stdout",
     "output_type": "stream",
     "text": [
      "['tom', 'aakash', '', 'a', 'k', 'e', 3.15, 'james']\n"
     ]
    }
   ],
   "source": [
    "name.insert(0, 'tom') #shifts the list \n",
    "print(name)\n",
    "            "
   ]
  },
  {
   "cell_type": "code",
   "execution_count": 52,
   "metadata": {},
   "outputs": [
    {
     "name": "stdout",
     "output_type": "stream",
     "text": [
      "['tom', '', 'a', 'k', 'e', 3.15, 'james']\n"
     ]
    }
   ],
   "source": [
    "#.renove removes first occurance \n",
    "\n",
    "name.remove('aakash')\n",
    "print(name)"
   ]
  },
  {
   "cell_type": "code",
   "execution_count": 54,
   "metadata": {},
   "outputs": [
    {
     "name": "stdout",
     "output_type": "stream",
     "text": [
      "3.15\n",
      "['tom', '', 'a', 'k', 'e']\n"
     ]
    }
   ],
   "source": [
    "##pop removes last ele\n",
    "print(name.pop())\n",
    "print(name)"
   ]
  },
  {
   "cell_type": "code",
   "execution_count": 55,
   "metadata": {},
   "outputs": [
    {
     "name": "stdout",
     "output_type": "stream",
     "text": [
      "1\n"
     ]
    }
   ],
   "source": [
    "print(name.count('tom'))\n",
    "\n",
    "\n"
   ]
  },
  {
   "cell_type": "code",
   "execution_count": 56,
   "metadata": {},
   "outputs": [
    {
     "data": {
      "text/plain": [
       "['', 'a', 'e', 'k', 'tom']"
      ]
     },
     "execution_count": 56,
     "metadata": {},
     "output_type": "execute_result"
    }
   ],
   "source": [
    "name.sort()\n",
    "name"
   ]
  },
  {
   "cell_type": "code",
   "execution_count": 57,
   "metadata": {},
   "outputs": [
    {
     "data": {
      "text/plain": [
       "['tom', 'k', 'e', 'a', '']"
      ]
     },
     "execution_count": 57,
     "metadata": {},
     "output_type": "execute_result"
    }
   ],
   "source": [
    "name.reverse()\n",
    "name"
   ]
  },
  {
   "cell_type": "code",
   "execution_count": 60,
   "metadata": {},
   "outputs": [
    {
     "name": "stdout",
     "output_type": "stream",
     "text": [
      "[1, 2, 3, 4, 5, 6, 7, 8, 9, 10]\n",
      "[1, 2, 3, 4, 5]\n",
      "[6, 7, 8, 9, 10]\n",
      "[10, 9, 8, 7, 6, 5, 4, 3, 2, 1]\n",
      "[1, 4, 7, 10]\n"
     ]
    }
   ],
   "source": [
    "#slicing list\n",
    "\n",
    "number =[1,2,3,4,5,6,7,8,9,10]\n",
    "print(number[:])\n",
    "print(number[:5])\n",
    "print(number[5:])\n",
    "print(number[::-1])\n",
    "print(number[::3])"
   ]
  },
  {
   "cell_type": "code",
   "execution_count": 61,
   "metadata": {},
   "outputs": [
    {
     "name": "stdout",
     "output_type": "stream",
     "text": [
      "1\n",
      "2\n",
      "3\n",
      "4\n",
      "5\n",
      "6\n",
      "7\n",
      "8\n",
      "9\n",
      "10\n"
     ]
    }
   ],
   "source": [
    "##iteration \n",
    "\n",
    "for x in number:\n",
    "    print(x)"
   ]
  },
  {
   "cell_type": "code",
   "execution_count": 62,
   "metadata": {},
   "outputs": [
    {
     "name": "stdout",
     "output_type": "stream",
     "text": [
      "0 1\n",
      "1 2\n",
      "2 3\n",
      "3 4\n",
      "4 5\n",
      "5 6\n",
      "6 7\n",
      "7 8\n",
      "8 9\n",
      "9 10\n"
     ]
    }
   ],
   "source": [
    "#iterating with index , ele\n",
    "for index,num in enumerate(number):\n",
    "    print(index, num)"
   ]
  },
  {
   "cell_type": "code",
   "execution_count": 65,
   "metadata": {},
   "outputs": [
    {
     "data": {
      "text/plain": [
       "[0, 4, 16, 36, 64]"
      ]
     },
     "execution_count": 65,
     "metadata": {},
     "output_type": "execute_result"
    }
   ],
   "source": [
    "### List comprehension\n",
    "\n",
    "### syntax : [exp for item in iterable if condn]\n",
    "\n",
    "[i**2 for i in range(10) if i%2==0]"
   ]
  },
  {
   "cell_type": "code",
   "execution_count": 70,
   "metadata": {},
   "outputs": [
    {
     "name": "stdout",
     "output_type": "stream",
     "text": [
      "[20, 40, 60, 80, 100, 120]\n",
      "[(1, 10), (1, 20), (1, 30), (1, 40), (1, 50), (1, 60), (2, 10), (2, 20), (2, 30), (2, 40), (2, 50), (2, 60), (3, 10), (3, 20), (3, 30), (3, 40), (3, 50), (3, 60), (4, 10), (4, 20), (4, 30), (4, 40), (4, 50), (4, 60), (5, 10), (5, 20), (5, 30), (5, 40), (5, 50), (5, 60), (6, 10), (6, 20), (6, 30), (6, 40), (6, 50), (6, 60)]\n"
     ]
    }
   ],
   "source": [
    "list =[1,2,3,4,5,6,]\n",
    "list2=[10,20,30,40,50,60,]\n",
    "\n",
    "print([i*j for i in list for j in list2 if i==2])\n",
    "pair =[(i,j) for i in list for j in list2]\n",
    "print(pair)"
   ]
  },
  {
   "cell_type": "code",
   "execution_count": 71,
   "metadata": {},
   "outputs": [
    {
     "name": "stdout",
     "output_type": "stream",
     "text": [
      "[4, 2, 6, 8]\n"
     ]
    }
   ],
   "source": [
    "sent = \"this is aakash tembhare\"\n",
    "list = sent.split(' ')\n",
    "length= [len(word) for word in list]\n",
    "print(length)"
   ]
  },
  {
   "cell_type": "code",
   "execution_count": null,
   "metadata": {},
   "outputs": [],
   "source": []
  }
 ],
 "metadata": {
  "kernelspec": {
   "display_name": "Python 3",
   "language": "python",
   "name": "python3"
  },
  "language_info": {
   "codemirror_mode": {
    "name": "ipython",
    "version": 3
   },
   "file_extension": ".py",
   "mimetype": "text/x-python",
   "name": "python",
   "nbconvert_exporter": "python",
   "pygments_lexer": "ipython3",
   "version": "3.12.0"
  }
 },
 "nbformat": 4,
 "nbformat_minor": 2
}
