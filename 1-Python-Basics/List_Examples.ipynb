{
 "cells": [
  {
   "cell_type": "markdown",
   "metadata": {},
   "source": [
    "### Real example: Creating a todo list "
   ]
  },
  {
   "cell_type": "code",
   "execution_count": 4,
   "metadata": {},
   "outputs": [
    {
     "name": "stdout",
     "output_type": "stream",
     "text": [
      "dancing classes remains\n",
      "create sheet\n",
      "goto gym\n",
      "dancing classes\n"
     ]
    }
   ],
   "source": [
    "## todolidt\n",
    "\n",
    "todo =[\"create sheet\", \"goto gym\"]\n",
    "\n",
    "##add items\n",
    "\n",
    "todo.append(\"dancing classes\")\n",
    "todo.append(\"runing\")\n",
    "\n",
    "##removing itemms\n",
    "\n",
    "todo.remove(\"runing\")\n",
    "\n",
    "## check if a task remains\n",
    "\n",
    "if \"dancing classes\" in todo:\n",
    "    print('dancing classes remains')\n",
    "\n",
    "##print all todo\n",
    "\n",
    "for ele in todo:\n",
    "    print(ele)"
   ]
  },
  {
   "cell_type": "markdown",
   "metadata": {},
   "source": [
    "### Real example: Grading sys"
   ]
  },
  {
   "cell_type": "code",
   "execution_count": 8,
   "metadata": {},
   "outputs": [
    {
     "name": "stdout",
     "output_type": "stream",
     "text": [
      "average grades are :83.75\n",
      "95\n",
      "69\n"
     ]
    }
   ],
   "source": [
    "## grades\n",
    "\n",
    "grades =[95, 85, 69]\n",
    "\n",
    "##add items\n",
    "\n",
    "grades.append(86)\n",
    "\n",
    "\n",
    "avg_grades = sum(grades)/len(grades)\n",
    "print(f\"average grades are :{avg_grades}\")\n",
    "\n",
    "h = max(grades)\n",
    "print(h)\n",
    "\n",
    "l= min(grades)\n",
    "print(l)"
   ]
  },
  {
   "cell_type": "markdown",
   "metadata": {},
   "source": [
    "#### Feedback analysis"
   ]
  },
  {
   "cell_type": "code",
   "execution_count": 9,
   "metadata": {},
   "outputs": [
    {
     "name": "stdout",
     "output_type": "stream",
     "text": [
      "3\n"
     ]
    }
   ],
   "source": [
    "## feedbacks\n",
    "\n",
    "feed =[\"great service\" , \"very good\", \"could be better\"]\n",
    "feed.append(\"great work\")\n",
    "\n",
    "positive_feedback = sum(1 for comment in feed if 'great' in comment.lower() or 'good' in comment.lower())\n",
    "print(positive_feedback)\n",
    "\n"
   ]
  },
  {
   "cell_type": "code",
   "execution_count": null,
   "metadata": {},
   "outputs": [],
   "source": []
  }
 ],
 "metadata": {
  "kernelspec": {
   "display_name": "Python 3",
   "language": "python",
   "name": "python3"
  },
  "language_info": {
   "codemirror_mode": {
    "name": "ipython",
    "version": 3
   },
   "file_extension": ".py",
   "mimetype": "text/x-python",
   "name": "python",
   "nbconvert_exporter": "python",
   "pygments_lexer": "ipython3",
   "version": "3.12.0"
  }
 },
 "nbformat": 4,
 "nbformat_minor": 2
}
